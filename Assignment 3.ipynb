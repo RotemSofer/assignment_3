{
 "cells": [
  {
   "cell_type": "code",
   "execution_count": 49,
   "id": "997bbc9f-369f-4d73-90c4-e767635d9c24",
   "metadata": {
    "tags": []
   },
   "outputs": [],
   "source": [
    "import requests\n",
    "import re\n",
    "import pandas as pd\n",
    "import numpy as np \n",
    "import json\n",
    "import pandas as pd\n",
    "import googlemaps\n",
    "from itertools import tee\n",
    "import geopandas\n",
    "import geopy\n",
    "from datetime import datetime, date, time, timedelta"
   ]
  },
  {
   "cell_type": "code",
   "execution_count": 65,
   "id": "bdea06a7-7ee9-4967-af98-6fb6df297adb",
   "metadata": {
    "tags": []
   },
   "outputs": [],
   "source": [
    "gmaps = googlemaps.Client(key='INSERT THE API KEY')"
   ]
  },
  {
   "cell_type": "code",
   "execution_count": 80,
   "id": "cd7d4308-b1db-4beb-b398-01f245e7d0a2",
   "metadata": {
    "tags": []
   },
   "outputs": [],
   "source": [
    "def converting(duration):\n",
    "    matches = re.findall(r'(\\d+)\\s*day', duration)\n",
    "    days = int(matches[0]) if matches else 0\n",
    "    matches = re.findall(r'(\\d+)\\s*hour', duration)\n",
    "    hours = int(matches[0]) if matches else 0\n",
    "    matches = re.findall(r'(\\d+)\\s*min', duration)\n",
    "    minutes = int(matches[0]) if matches else 0\n",
    "\n",
    "    total_minutes = days * 24 * 60 + hours * 60 + minutes\n",
    "    hours = total_minutes // 60\n",
    "    minutes = total_minutes % 60\n",
    "\n",
    "    return f\"{hours} hours {minutes:02d} minutes\"\n"
   ]
  },
  {
   "cell_type": "code",
   "execution_count": 81,
   "id": "3e7b9df2-19ca-442a-a2ec-173f31c0ee1b",
   "metadata": {
    "tags": []
   },
   "outputs": [],
   "source": [
    "info_lst = []\n",
    "cities = open('C:\\\\Users\\\\rotes\\\\Desktop\\\\dests.txt')\n",
    "for city in cities:\n",
    "    city = city.rstrip()\n",
    "    dest = gmaps.distance_matrix(city,'tel aviv')['rows'][0]['elements'][0]\n",
    "    distance = dest['distance']['text']\n",
    "    duration = dest['duration']['text']\n",
    "    geo_coord = gmaps.geocode(city)\n",
    "    lng = geo_coord[0]['geometry']['location']['lng']\n",
    "    lat = geo_coord[0]['geometry']['location']['lat']\n",
    "    duration_format = converting(duration)\n",
    "    info_lst.append((city,distance,duration_format,lng,lat))\n",
    "    "
   ]
  },
  {
   "cell_type": "code",
   "execution_count": 82,
   "id": "e3f673db-a1c8-4f3d-a111-c94a7b469f16",
   "metadata": {
    "tags": []
   },
   "outputs": [
    {
     "data": {
      "text/html": [
       "<div>\n",
       "<style scoped>\n",
       "    .dataframe tbody tr th:only-of-type {\n",
       "        vertical-align: middle;\n",
       "    }\n",
       "\n",
       "    .dataframe tbody tr th {\n",
       "        vertical-align: top;\n",
       "    }\n",
       "\n",
       "    .dataframe thead th {\n",
       "        text-align: right;\n",
       "    }\n",
       "</style>\n",
       "<table border=\"1\" class=\"dataframe\">\n",
       "  <thead>\n",
       "    <tr style=\"text-align: right;\">\n",
       "      <th></th>\n",
       "      <th>Target</th>\n",
       "      <th>Distance</th>\n",
       "      <th>Duration</th>\n",
       "      <th>Longtitude</th>\n",
       "      <th>Latitude</th>\n",
       "    </tr>\n",
       "  </thead>\n",
       "  <tbody>\n",
       "    <tr>\n",
       "      <th>0</th>\n",
       "      <td>Istanbul</td>\n",
       "      <td>1,814 km</td>\n",
       "      <td>20 hours 54 minutes</td>\n",
       "      <td>28.978359</td>\n",
       "      <td>41.008238</td>\n",
       "    </tr>\n",
       "    <tr>\n",
       "      <th>1</th>\n",
       "      <td>Amsterdam</td>\n",
       "      <td>4,536 km</td>\n",
       "      <td>48 hours 00 minutes</td>\n",
       "      <td>4.904139</td>\n",
       "      <td>52.367573</td>\n",
       "    </tr>\n",
       "    <tr>\n",
       "      <th>2</th>\n",
       "      <td>Valletta</td>\n",
       "      <td>3,795 km</td>\n",
       "      <td>51 hours 00 minutes</td>\n",
       "      <td>14.514100</td>\n",
       "      <td>35.899237</td>\n",
       "    </tr>\n",
       "    <tr>\n",
       "      <th>3</th>\n",
       "      <td>Basel</td>\n",
       "      <td>4,095 km</td>\n",
       "      <td>44 hours 00 minutes</td>\n",
       "      <td>7.588576</td>\n",
       "      <td>47.559599</td>\n",
       "    </tr>\n",
       "    <tr>\n",
       "      <th>4</th>\n",
       "      <td>Doha</td>\n",
       "      <td>2,167 km</td>\n",
       "      <td>22 hours 44 minutes</td>\n",
       "      <td>51.531040</td>\n",
       "      <td>25.285447</td>\n",
       "    </tr>\n",
       "  </tbody>\n",
       "</table>\n",
       "</div>"
      ],
      "text/plain": [
       "      Target  Distance             Duration  Longtitude   Latitude\n",
       "0   Istanbul  1,814 km  20 hours 54 minutes   28.978359  41.008238\n",
       "1  Amsterdam  4,536 km  48 hours 00 minutes    4.904139  52.367573\n",
       "2   Valletta  3,795 km  51 hours 00 minutes   14.514100  35.899237\n",
       "3      Basel  4,095 km  44 hours 00 minutes    7.588576  47.559599\n",
       "4       Doha  2,167 km  22 hours 44 minutes   51.531040  25.285447"
      ]
     },
     "execution_count": 82,
     "metadata": {},
     "output_type": "execute_result"
    }
   ],
   "source": [
    "data = pd.DataFrame(info_lst)\n",
    "data = data.rename(columns={0: \"Target\", 1: \"Distance\", 2: \"Duration\",3: \"Longtitude\", 4: \"Latitude\"})\n",
    "data"
   ]
  },
  {
   "cell_type": "code",
   "execution_count": 83,
   "id": "e3b3c502-3851-4571-bc95-62b40eab9bcc",
   "metadata": {
    "tags": []
   },
   "outputs": [
    {
     "data": {
      "text/html": [
       "<div>\n",
       "<style scoped>\n",
       "    .dataframe tbody tr th:only-of-type {\n",
       "        vertical-align: middle;\n",
       "    }\n",
       "\n",
       "    .dataframe tbody tr th {\n",
       "        vertical-align: top;\n",
       "    }\n",
       "\n",
       "    .dataframe thead th {\n",
       "        text-align: right;\n",
       "    }\n",
       "</style>\n",
       "<table border=\"1\" class=\"dataframe\">\n",
       "  <thead>\n",
       "    <tr style=\"text-align: right;\">\n",
       "      <th></th>\n",
       "      <th>Target</th>\n",
       "      <th>Distance</th>\n",
       "      <th>Duration</th>\n",
       "      <th>Longtitude</th>\n",
       "      <th>Latitude</th>\n",
       "    </tr>\n",
       "  </thead>\n",
       "  <tbody>\n",
       "    <tr>\n",
       "      <th>1</th>\n",
       "      <td>Amsterdam</td>\n",
       "      <td>4,536 km</td>\n",
       "      <td>48 hours 00 minutes</td>\n",
       "      <td>4.904139</td>\n",
       "      <td>52.367573</td>\n",
       "    </tr>\n",
       "    <tr>\n",
       "      <th>3</th>\n",
       "      <td>Basel</td>\n",
       "      <td>4,095 km</td>\n",
       "      <td>44 hours 00 minutes</td>\n",
       "      <td>7.588576</td>\n",
       "      <td>47.559599</td>\n",
       "    </tr>\n",
       "    <tr>\n",
       "      <th>2</th>\n",
       "      <td>Valletta</td>\n",
       "      <td>3,795 km</td>\n",
       "      <td>51 hours 00 minutes</td>\n",
       "      <td>14.514100</td>\n",
       "      <td>35.899237</td>\n",
       "    </tr>\n",
       "  </tbody>\n",
       "</table>\n",
       "</div>"
      ],
      "text/plain": [
       "      Target  Distance             Duration  Longtitude   Latitude\n",
       "1  Amsterdam  4,536 km  48 hours 00 minutes    4.904139  52.367573\n",
       "3      Basel  4,095 km  44 hours 00 minutes    7.588576  47.559599\n",
       "2   Valletta  3,795 km  51 hours 00 minutes   14.514100  35.899237"
      ]
     },
     "execution_count": 83,
     "metadata": {},
     "output_type": "execute_result"
    }
   ],
   "source": [
    "data_furthest = data.sort_values(\"Distance\", ascending=False).head(3)\n",
    "data_furthest"
   ]
  },
  {
   "cell_type": "code",
   "execution_count": null,
   "id": "36e3b6a5-6672-4eeb-8633-3683800880a0",
   "metadata": {},
   "outputs": [],
   "source": []
  }
 ],
 "metadata": {
  "kernelspec": {
   "display_name": "Python 3 (ipykernel)",
   "language": "python",
   "name": "python3"
  },
  "language_info": {
   "codemirror_mode": {
    "name": "ipython",
    "version": 3
   },
   "file_extension": ".py",
   "mimetype": "text/x-python",
   "name": "python",
   "nbconvert_exporter": "python",
   "pygments_lexer": "ipython3",
   "version": "3.11.3"
  }
 },
 "nbformat": 4,
 "nbformat_minor": 5
}
